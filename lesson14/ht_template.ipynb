{
 "cells": [
  {
   "cell_type": "code",
   "execution_count": 5,
   "metadata": {
    "collapsed": true
   },
   "outputs": [],
   "source": [
    "from pyspark.sql import SparkSession, functions as f, types as t"
   ]
  },
  {
   "cell_type": "code",
   "execution_count": 10,
   "metadata": {
    "collapsed": false
   },
   "outputs": [],
   "source": [
    "spark = SparkSession.builder.appName('lect_14_home_task').getOrCreate()"
   ]
  },
  {
   "cell_type": "code",
   "execution_count": 18,
   "metadata": {},
   "outputs": [
    {
     "data": {
      "text/plain": [
       "'3.3.0'"
      ]
     },
     "execution_count": 18,
     "metadata": {},
     "output_type": "execute_result"
    }
   ],
   "source": [
    "spark.version"
   ]
  },
  {
   "cell_type": "markdown",
   "metadata": {
    "collapsed": false
   },
   "source": [
    "# Домашнє завдання на тему Spark SQL\n",
    "\n",
    "Задачі з домашнього завдання на SQL потрібно розвʼязати за допомогою Spark SQL DataFrame API.\n",
    "\n",
    "Дампи таблиць знаходяться в папці `data`.\n",
    "Можете створювати стільки нових клітинок, скільки вам необхідно.\n",
    "\n",
    "Розвʼязок кожної задачі має бути відображений в самому файлі (використати метод `.show()`)\n",
    "\n",
    "**Увага!** Використовувати мову запитів SQL безпосередньо забороняється, потрібно використовувати виключно DataFrame API!\n"
   ]
  },
  {
   "cell_type": "markdown",
   "metadata": {},
   "source": [
    "# init:"
   ]
  },
  {
   "cell_type": "code",
   "execution_count": 21,
   "metadata": {},
   "outputs": [],
   "source": [
    "import os\n",
    "BASE_DIR = os.getenv('BASE_DIR')\n",
    "\n",
    "df_category = spark.read.csv(os.path.join(BASE_DIR, 'category.csv'), inferSchema=True, header=True)\n",
    "df_film_category = spark.read.csv(os.path.join(BASE_DIR, 'film_category.csv'), inferSchema=True, header=True)\n",
    "df_inventory = spark.read.csv(os.path.join(BASE_DIR, 'inventory.csv'), inferSchema=True, header=True)\n",
    "df_film_actor = spark.read.csv(os.path.join(BASE_DIR, 'film_actor.csv'), inferSchema=True, header=True)\n",
    "df_actor = spark.read.csv(os.path.join(BASE_DIR, 'actor.csv'), inferSchema=True, header=True)\n",
    "df_rental = spark.read.csv(os.path.join(BASE_DIR, 'rental.csv'), inferSchema=True, header=True)\n",
    "df_payment = spark.read.csv(os.path.join(BASE_DIR, 'payment.csv'), inferSchema=True, header=True)\n",
    "df_film = spark.read.csv(os.path.join(BASE_DIR, 'film.csv'), inferSchema=True, header=True)\n",
    "df_city = spark.read.csv(os.path.join(BASE_DIR, 'city.csv'), inferSchema=True, header=True)\n",
    "df_address = spark.read.csv(os.path.join(BASE_DIR, 'address.csv'), inferSchema=True, header=True)\n",
    "df_customer = spark.read.csv(os.path.join(BASE_DIR, 'customer.csv'), inferSchema=True, header=True)\n"
   ]
  },
  {
   "cell_type": "markdown",
   "metadata": {
    "collapsed": false
   },
   "source": [
    "1.\n",
    "Вивести кількість фільмів в кожній категорії.\n",
    "Результат відсортувати за спаданням."
   ]
  },
  {
   "cell_type": "code",
   "execution_count": 23,
   "metadata": {
    "collapsed": false
   },
   "outputs": [
    {
     "name": "stdout",
     "output_type": "stream",
     "text": [
      "+-----------+-----+\n",
      "|category   |count|\n",
      "+-----------+-----+\n",
      "|Sports     |74   |\n",
      "|Foreign    |73   |\n",
      "|Family     |69   |\n",
      "|Documentary|68   |\n",
      "|Animation  |66   |\n",
      "|Action     |64   |\n",
      "|New        |63   |\n",
      "|Drama      |62   |\n",
      "|Games      |61   |\n",
      "|Sci-Fi     |61   |\n",
      "|Children   |60   |\n",
      "|Comedy     |58   |\n",
      "|Travel     |57   |\n",
      "|Classics   |57   |\n",
      "|Horror     |56   |\n",
      "|Music      |51   |\n",
      "+-----------+-----+\n",
      "\n"
     ]
    }
   ],
   "source": [
    "df_film_category.join(df_category, df_category.category_id == df_film_category.category_id, \"left\") \\\n",
    "     .groupBy('name').count().select(f.col('name').alias('category'),'count') \\\n",
    "     .orderBy(f.desc('count')).show(truncate=False)\n"
   ]
  },
  {
   "cell_type": "markdown",
   "metadata": {
    "collapsed": false
   },
   "source": [
    "2.\n",
    "Вивести 10 акторів, чиї фільми брали на прокат найбільше.\n",
    "Результат відсортувати за спаданням."
   ]
  },
  {
   "cell_type": "code",
   "execution_count": 43,
   "metadata": {
    "collapsed": false
   },
   "outputs": [
    {
     "name": "stdout",
     "output_type": "stream",
     "text": [
      "+------------------+-----+\n",
      "|         full_name|count|\n",
      "+------------------+-----+\n",
      "|       SUSAN DAVIS|  825|\n",
      "|    GINA DEGENERES|  753|\n",
      "|    MATTHEW CARREY|  678|\n",
      "|       MARY KEITEL|  674|\n",
      "|ANGELA WITHERSPOON|  654|\n",
      "|       WALTER TORN|  640|\n",
      "|       HENRY BERRY|  612|\n",
      "|       JAYNE NOLTE|  611|\n",
      "|        VAL BOLGER|  605|\n",
      "|     SANDRA KILMER|  604|\n",
      "+------------------+-----+\n",
      "\n"
     ]
    }
   ],
   "source": [
    "# if you need to pass a set of 10 records to another df, then use .limit(10)\n",
    "# if just show 10 lines, then .show(10)\n",
    "\n",
    "df_rental.join(df_inventory, df_rental.inventory_id == df_inventory.inventory_id, \"left\") \\\n",
    "    .join(df_film_actor, df_inventory.film_id == df_film_actor.film_id, \"left\") \\\n",
    "    .join(df_actor, df_film_actor.actor_id == df_actor.actor_id, \"left\") \\\n",
    "    .groupBy('first_name','last_name').count() \\\n",
    "    .select(f.concat('first_name', f.lit(' '), 'last_name').alias('full_name'),'count') \\\n",
    "    .orderBy(f.desc('count')).limit(10).show()\n"
   ]
  },
  {
   "cell_type": "markdown",
   "metadata": {
    "collapsed": false
   },
   "source": [
    "3.\n",
    "Вивести категорія фільмів, на яку було витрачено найбільше грошей\n",
    "в прокаті"
   ]
  },
  {
   "cell_type": "code",
   "execution_count": 46,
   "metadata": {
    "collapsed": false
   },
   "outputs": [
    {
     "name": "stdout",
     "output_type": "stream",
     "text": [
      "+------+--------+\n",
      "|  name|     sum|\n",
      "+------+--------+\n",
      "|Sports|5,314.21|\n",
      "+------+--------+\n",
      "only showing top 1 row\n",
      "\n"
     ]
    }
   ],
   "source": [
    "df_payment.join(df_rental, df_payment.rental_id == df_rental.rental_id, \"left\") \\\n",
    "    .join(df_inventory, df_rental.inventory_id == df_inventory.inventory_id, \"left\") \\\n",
    "    .join(df_film_category, df_inventory.film_id == df_film_category.film_id, \"left\") \\\n",
    "    .join(df_category, df_film_category.category_id == df_category.category_id, \"left\") \\\n",
    "    .groupBy('name').agg(f.format_number(f.sum('amount'), 2).alias('sum')) \\\n",
    "    .orderBy(f.desc('sum')).show(1)"
   ]
  },
  {
   "cell_type": "markdown",
   "metadata": {
    "collapsed": false
   },
   "source": [
    "4.\n",
    "Вивести назви фільмів, яких не має в inventory.\n",
    "Запит має бути без оператора IN"
   ]
  },
  {
   "cell_type": "code",
   "execution_count": 29,
   "metadata": {
    "collapsed": false
   },
   "outputs": [
    {
     "name": "stdout",
     "output_type": "stream",
     "text": [
      "+----------------------+\n",
      "|title                 |\n",
      "+----------------------+\n",
      "|ALICE FANTASIA        |\n",
      "|APOLLO TEEN           |\n",
      "|ARGONAUTS TOWN        |\n",
      "|ARK RIDGEMONT         |\n",
      "|ARSENIC INDEPENDENCE  |\n",
      "|BOONDOCK BALLROOM     |\n",
      "|BUTCH PANTHER         |\n",
      "|CATCH AMISTAD         |\n",
      "|CHINATOWN GLADIATOR   |\n",
      "|CHOCOLATE DUCK        |\n",
      "|COMMANDMENTS EXPRESS  |\n",
      "|CROSSING DIVORCE      |\n",
      "|CROWDS TELEMARK       |\n",
      "|CRYSTAL BREAKING      |\n",
      "|DAZED PUNK            |\n",
      "|DELIVERANCE MULHOLLAND|\n",
      "|FIREHOUSE VIETNAM     |\n",
      "|FLOATS GARDEN         |\n",
      "|FRANKENSTEIN STRANGER |\n",
      "|GLADIATOR WESTWARD    |\n",
      "+----------------------+\n",
      "only showing top 20 rows\n",
      "\n"
     ]
    }
   ],
   "source": [
    "# re-arranged according to the sizes\n",
    "\n",
    "df_inventory.join(df_film, df_inventory.film_id == df_film.film_id, \"right\") \\\n",
    "    .filter(df_inventory.film_id.isNull()).select('title').show(truncate=False)"
   ]
  },
  {
   "cell_type": "markdown",
   "metadata": {
    "collapsed": false
   },
   "source": [
    "5.\n",
    "Вивести топ 3 актори, які найбільше зʼявлялись в категорії фільмів “Children”"
   ]
  },
  {
   "cell_type": "code",
   "execution_count": 47,
   "metadata": {
    "collapsed": false
   },
   "outputs": [
    {
     "name": "stdout",
     "output_type": "stream",
     "text": [
      "+----------+---------+-----+\n",
      "|first_name|last_name|count|\n",
      "+----------+---------+-----+\n",
      "|     HELEN|   VOIGHT|    7|\n",
      "|     KEVIN|  GARLAND|    5|\n",
      "|      MARY|    TANDY|    5|\n",
      "+----------+---------+-----+\n",
      "\n"
     ]
    }
   ],
   "source": [
    "df_film_actor.join(df_film_category, df_film_category.film_id == df_film_actor.film_id, \"left\") \\\n",
    "    .join(df_actor, [\"actor_id\"], \"left\") \\\n",
    "    .join(df_category, df_category.category_id == df_film_category.category_id, \"left\") \\\n",
    "    .filter(df_category.name == 'Children').groupBy('actor_id', 'first_name', 'last_name') \\\n",
    "    .count().select('first_name', 'last_name', 'count').orderBy(f.col('count').desc(), 'first_name', 'last_name') \\\n",
    "    .limit(3).show()"
   ]
  },
  {
   "cell_type": "markdown",
   "metadata": {
    "collapsed": false
   },
   "source": [
    "6.\n",
    "Вивести міста з кількістю активних та неактивних клієнтів\n",
    "(в активних customer.active = 1).\n",
    "Результат відсортувати за кількістю неактивних клієнтів за спаданням."
   ]
  },
  {
   "cell_type": "code",
   "execution_count": 40,
   "metadata": {
    "collapsed": false
   },
   "outputs": [
    {
     "name": "stdout",
     "output_type": "stream",
     "text": [
      "+----------------+----------+------------+\n",
      "|            city|sum_active|sum_inactive|\n",
      "+----------------+----------+------------+\n",
      "|       Pingxiang|         0|           1|\n",
      "|     Szkesfehrvr|         0|           1|\n",
      "|   Coatzacoalcos|         0|           1|\n",
      "| Southend-on-Sea|         0|           1|\n",
      "|          Ktahya|         0|           1|\n",
      "|         Bat Yam|         0|           1|\n",
      "|          Amroha|         0|           1|\n",
      "|          Daxian|         0|           1|\n",
      "|         Wroclaw|         0|           1|\n",
      "|      Kumbakonam|         0|           1|\n",
      "|          Kamyin|         0|           1|\n",
      "|       Najafabad|         0|           1|\n",
      "|Charlotte Amalie|         0|           1|\n",
      "|        Xiangfan|         0|           1|\n",
      "|        Uluberia|         0|           1|\n",
      "|          Laredo|         1|           0|\n",
      "|        Bhilwara|         1|           0|\n",
      "|        Gulbarga|         1|           0|\n",
      "|        Songkhla|         1|           0|\n",
      "|          Mardan|         1|           0|\n",
      "+----------------+----------+------------+\n",
      "only showing top 20 rows\n",
      "\n"
     ]
    }
   ],
   "source": [
    "df_customer.join(df_address, df_customer.address_id == df_address.address_id, \"left\") \\\n",
    "    .join(df_city, ['city_id'], \"left\") \\\n",
    "    .groupBy('city_id', 'city').agg(\n",
    "        f.sum(df_customer.active).alias('sum_active'),\n",
    "        f.sum(f.when(df_customer.active == 0, 1).otherwise(0)).alias('sum_inactive')\n",
    "    ).orderBy(f.desc('sum_inactive')).select('city', 'sum_active', 'sum_inactive').show()"
   ]
  }
 ],
 "metadata": {
  "kernelspec": {
   "display_name": "Python 3.10.6 ('env': venv)",
   "language": "python",
   "name": "python3"
  },
  "language_info": {
   "codemirror_mode": {
    "name": "ipython",
    "version": 3
   },
   "file_extension": ".py",
   "mimetype": "text/x-python",
   "name": "python",
   "nbconvert_exporter": "python",
   "pygments_lexer": "ipython3",
   "version": "3.10.6"
  },
  "vscode": {
   "interpreter": {
    "hash": "887d372cb14b19b5f837bfd9439421333ea2f7a7bcce20dbb244b698e95f44a5"
   }
  }
 },
 "nbformat": 4,
 "nbformat_minor": 0
}
